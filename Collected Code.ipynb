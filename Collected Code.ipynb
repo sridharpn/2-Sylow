{
 "cells": [
  {
   "cell_type": "markdown",
   "metadata": {
    "collapsed": false
   },
   "source": [
    "# Representation theory of 2-Sylow subgroups of symmetric groups\n"
   ]
  },
  {
   "cell_type": "markdown",
   "metadata": {
    "collapsed": false
   },
   "source": [
    "This is a collection of code for describing 2-Sylow subgroups of $S_n$ entirely as forests of $n$. The following code implements the bijection, and calculates character values, class sizes, etc."
   ]
  },
  {
   "cell_type": "markdown",
   "metadata": {
    "collapsed": false
   },
   "source": [
    "## 1. Calculating the Binary Digits of an integer\n",
    "\n",
    "The binary digits of $n$ is a list $[k_l,k_{l-1},\\dots,k_1]$ of strictly decreasing integers such that $n=2^{k_l}+2^{k_{l-1}}+\\dots+2^{k_1}$\n",
    "\n",
    "The function gen_bin_exp(n) returns the binary digits of $n$.\n"
   ]
  },
  {
   "cell_type": "code",
   "execution_count": 3,
   "metadata": {
    "collapsed": false
   },
   "outputs": [
   ],
   "source": [
    "def gen_bin_exp(n):\n",
    "    \"\"\"\n",
    "    Returns the position(starting with 0) of the nonzero digits in the binary expansion of the argument.\n",
    "\n",
    "    Keyword arguments:\n",
    "    n -- Positive integer\n",
    "\n",
    "    \"\"\"\n",
    "    L=[]\n",
    "    i=1\n",
    "    while n>0:\n",
    "        if n%(2**i)!=0:         #if the $(i-1)$th position is a 1\n",
    "            L.append(i-1)         #then record this position in the list\n",
    "            n=(n-n%(2**i))         #after this the least significant possible nonzero digit will be in the $i$th place\n",
    "        i+=1\n",
    "    L.reverse()         #rearrange in descending order\n",
    "    return L\n"
   ]
  },
  {
   "cell_type": "markdown",
   "metadata": {
    "collapsed": false
   },
   "source": [
    "#### Example:"
   ]
  },
  {
   "cell_type": "code",
   "execution_count": 4,
   "metadata": {
    "collapsed": false
   },
   "outputs": [
    {
     "data": {
      "text/plain": [
       "[2, 1, 0]"
      ]
     },
     "execution_count": 4,
     "metadata": {
     },
     "output_type": "execute_result"
    }
   ],
   "source": [
    "n=7\n",
    "gen_bin_exp(n)\n"
   ]
  },
  {
   "cell_type": "markdown",
   "metadata": {
    "collapsed": false
   },
   "source": [
    "## 2. Generating the forests of $n$\n",
    "Conjugacy classes and irreducible representations of $H_k$ are both equinumerous with 1-2 binary trees of height $k$.\n",
    "\n",
    "Lists are used to represent binary trees. A list corresponding to a tree of height $k$ is defined recursively as a list comprising one or two binary trees of height $k-1$. The trivial representation of $H_0$ is denoted by $[[]]$.\n",
    "\n",
    "A forest of $n$ is defined as a list comprising binary trees of heights corresponding to the binary digits of $n$."
   ]
  },
  {
   "cell_type": "code",
   "execution_count": 10,
   "metadata": {
    "collapsed": false
   },
   "outputs": [
    {
     "name": "stdout",
     "output_type": "stream",
     "text": [
      "\n"
     ]
    }
   ],
   "source": [
    "import itertools\n",
    "\n",
    "def gen_forest(m):\n",
    "    \"\"\"\n",
    "    Iterator returning a forest of size $m$ as a list of binary trees of heights corresponding to the binary digits of $m$.\n",
    "\n",
    "    Keyword arguments:\n",
    "    m -- the size of the forest\n",
    "    \"\"\"\n",
    "    def gen_bin_tree(k):\n",
    "        if k==0:\n",
    "            yield [[]]         # Yield the trivial tree\n",
    "        elif k==1:\n",
    "            yield [[[]]]         #Yield the negative extension\n",
    "            yield [[[]],[[]]]         #Yield the positive extension \n",
    "        else:\n",
    "            for x in gen_bin_tree(k-1):\n",
    "                yield [x]         #Yield the negative extension\n",
    "                yield [x,x]         #Yield the positive extension\n",
    "            for (x,y) in itertools.combinations(gen_bin_tree(k-1),2):\n",
    "                yield [x,y]         #Yield trees corresponding to induced representations\n",
    "\n",
    "    L=gen_bin_exp(m)         #Generate the binary digits of m\n",
    "    alltrees= [gen_bin_tree(k) for k in L ]         #list of iterables for trees of appropriate height\n",
    "    for x in itertools.product(*alltrees):\n",
    "        yield list(x)         #Yield each element in the direct product of iterables as a list\n"
   ]
  },
  {
   "cell_type": "markdown",
   "metadata": {
    "collapsed": false
   },
   "source": [
    "#### Example:"
   ]
  },
  {
   "cell_type": "code",
   "execution_count": 11,
   "metadata": {
    "collapsed": false
   },
   "outputs": [
    {
     "name": "stdout",
     "output_type": "stream",
     "text": [
      "1 [[[[[]]]], [[[]]], [[]]]\n",
      "2 [[[[[]]]], [[[]], [[]]], [[]]]\n",
      "3 [[[[[]]], [[[]]]], [[[]]], [[]]]\n",
      "4 [[[[[]]], [[[]]]], [[[]], [[]]], [[]]]\n",
      "5 [[[[[]], [[]]]], [[[]]], [[]]]\n",
      "6 [[[[[]], [[]]]], [[[]], [[]]], [[]]]\n",
      "7 [[[[[]], [[]]], [[[]], [[]]]], [[[]]], [[]]]\n",
      "8 [[[[[]], [[]]], [[[]], [[]]]], [[[]], [[]]], [[]]]\n",
      "9 [[[[[]]], [[[]], [[]]]], [[[]]], [[]]]\n",
      "10 [[[[[]]], [[[]], [[]]]], [[[]], [[]]], [[]]]\n"
     ]
    }
   ],
   "source": [
    "for i,x in enumerate(gen_forest(7)):\n",
    "    print (i+1),x      #display all forests of 7"
   ]
  },
  {
   "cell_type": "markdown",
   "metadata": {
    "collapsed": false
   },
   "source": [
    "Each forest is a list of lists and each element is a list representing a forest. The heights of the trees correspond to the binary digits of the size of the forest."
   ]
  },
  {
   "cell_type": "markdown",
   "metadata": {
    "collapsed": false
   },
   "source": [
    "### 2.1 From forests to binary digits"
   ]
  },
  {
   "cell_type": "markdown",
   "metadata": {
    "collapsed": false
   },
   "source": [
    "Given a value for $n$, the above iterable yields all forests of $n$. Now given a forest we would like to find its size; that is, the integer $n$ such that the forest is a forest of $n$. The following function does this."
   ]
  },
  {
   "cell_type": "code",
   "execution_count": 12,
   "metadata": {
    "collapsed": false
   },
   "outputs": [
   ],
   "source": [
    "def size_of_forest(F):\n",
    "    \"\"\"\n",
    "    Takes as input a forest of some integer n, and returns the binary digits of n as a list. The function counts the longest string of opening parantheses at the start of each tree in the list to find its height.\n",
    "    \n",
    "    Keyword arguments:\n",
    "    F- A forest as a list\n",
    "    \"\"\"\n",
    "    def size_of_tree(T):\n",
    "        x=-1             #corresponding to the empty set\n",
    "        while len(T)>0:  #the empty list ends the string of continuous left parantheses\n",
    "            x=x+1        #counts the left parantheses encountered\n",
    "            T=T[0]       #iteration condition \n",
    "        return x\n",
    "    return [size_of_tree(T) for T in F]        #binary digits of n\n",
    "\n"
   ]
  },
  {
   "cell_type": "markdown",
   "metadata": {
    "collapsed": false
   },
   "source": [
    "#### Example:"
   ]
  },
  {
   "cell_type": "code",
   "execution_count": 13,
   "metadata": {
    "collapsed": false
   },
   "outputs": [
    {
     "name": "stdout",
     "output_type": "stream",
     "text": [
      "Binary digits of 7 : [2, 1, 0]\n",
      "[[[[[]]]], [[[]]], [[]]] : [2, 1, 0]\n",
      "[[[[[]]]], [[[]], [[]]], [[]]] : [2, 1, 0]\n",
      "[[[[[]]], [[[]]]], [[[]]], [[]]] : [2, 1, 0]\n",
      "[[[[[]]], [[[]]]], [[[]], [[]]], [[]]] : [2, 1, 0]\n",
      "[[[[[]], [[]]]], [[[]]], [[]]] : [2, 1, 0]\n",
      "[[[[[]], [[]]]], [[[]], [[]]], [[]]] : [2, 1, 0]\n",
      "[[[[[]], [[]]], [[[]], [[]]]], [[[]]], [[]]] : [2, 1, 0]\n",
      "[[[[[]], [[]]], [[[]], [[]]]], [[[]], [[]]], [[]]] : [2, 1, 0]\n",
      "[[[[[]]], [[[]], [[]]]], [[[]]], [[]]] : [2, 1, 0]\n",
      "[[[[[]]], [[[]], [[]]]], [[[]], [[]]], [[]]] : [2, 1, 0]\n"
     ]
    }
   ],
   "source": [
    "n=7\n",
    "print \"Binary digits of\",n,\":\", gen_bin_exp(n)\n",
    "for x in gen_forest(n):\n",
    "    print x, ':', size_of_forest(x)"
   ]
  },
  {
   "cell_type": "markdown",
   "metadata": {
    "collapsed": false
   },
   "source": [
    "The example illustrates that the function size_of_forest(F) accepts a forest(as a list of lists) and outputs a list comprising the binary digits of $n$- the size of the forest $F$. "
   ]
  },
  {
   "cell_type": "markdown",
   "metadata": {
    "collapsed": false
   },
   "source": [
    "## 3. Conjugacy classes and Irreducible representations as forests\n",
    "Let trees of height $k$ of the kind $[T_1,T_2]$ where $T_1$ and $T_2$ are distinct trees of height $k-1$(distinct elementwise as lists) be called Type I trees.\n",
    "\n",
    "Similarly let trees of the kind $[T,T]$ be called Type II and trees of the kind $[T]$ be called Type III.\n",
    "\n",
    "A representation of $H_k$ induced from the tensor product of distinct $H_{k-1}$ characters $\\phi_1 \\otimes \\phi_2$ is called Type I, and positive and negative extensions of the representation $\\phi \\otimes \\phi$ are called Type II and Type III trees respectively. The bijection between trees of height $k$ and irreducible representations of $H_k$ proceeds by mapping a representation of a type to a tree of the same type respecting the bijection for height $k-1$ on each component of the tensor. This defines the bijection unambiguously.\n",
    "\n",
    "Similarly for conjugacy classes of $H_k$, let classes of the type $(\\sigma_1,\\sigma_2)^{1}$ (for distinct class representatives $\\sigma_1$, $\\sigma_2$ of $H_{k-1}$) be called Type I classes; $(\\sigma,\\sigma)^{1}$ type classes are Type II, and $(Id,\\sigma)^{-1}$ are Type III. The bijection is defined in the same way for conjugacy classes as is described above for representations.\n",
    "\n",
    "The bijection extends to $P_n$ componentwise.\n",
    "\n",
    "With this we define as a first step a method to compute the conjugacy class size, $c_k()$ using the formula(for $H_k$):\n",
    "$c_k((\\sigma_1,\\sigma_2)^{1})=2c_{k-1}(\\sigma_1)c_{k-1}(\\sigma_2)$\n",
    "\n",
    "$c_k((\\sigma,\\sigma)^{1})=c_{k-1}(\\sigma)c_{k-1}(\\sigma)$\n",
    "\n",
    "$c_k((Id,\\sigma)^{-1})=|H_{k-1}|c_{k-1}(\\sigma)$\n",
    "\n",
    "Which extends to $P_n$ by multiplication componentwise. \n",
    "\n",
    "We also define here a function to calculate the size of $H_k$ as $2^{2^k-1}$; and for $P_n$ multiplicatively across its components.\n"
   ]
  },
  {
   "cell_type": "markdown",
   "metadata": {
    "collapsed": false
   },
   "source": [
    "### 3.1 Class sizes and Cardinality"
   ]
  },
  {
   "cell_type": "code",
   "execution_count": 14,
   "metadata": {
    "collapsed": false
   },
   "outputs": [
   ],
   "source": [
    "def order_of_P(n=0,L=[]):\n",
    "    \"\"\"\n",
    "    Returns the cardinality of the group P_n. Accepts either the integer or its binary digits as input. One or the other is assumed to be a non-null input\n",
    "    \n",
    "    Keyword Arguments:\n",
    "    L- Binary digits of n\n",
    "    n- Integer\n",
    "    \"\"\"\n",
    "    if n>0:         #checks if integer is provided as input. If both L and n are non-null, n is accepted as the input\n",
    "        L=gen_bin_exp(n)\n",
    "    def order_of_H(k):    #For powers of 2\n",
    "        return 2**(2**k-1) #according to formula\n",
    "    x=1\n",
    "    for y in L:\n",
    "        x=x* order_of_H(y)  #extension of formula to P_n by multiplication across components\n",
    "    return x\n",
    "\n",
    "def class_size(F):\n",
    "    \"\"\"\n",
    "    Returns the size of conjugacy class given under the bijection by a forest F\n",
    "    \n",
    "    Keyword Arguments:\n",
    "    F- A forest denoting a conjugacy class\"\"\"\n",
    "    def class_size_k(T): #For powers of 2\n",
    "        if T==[[]]:  #The only element of H_0\n",
    "            return 1\n",
    "        else:\n",
    "            if len(T)==1:              #Type III representations\n",
    "                return order_of_P(L=size_of_forest(T))*class_size_k(T[0])  #size_of_forest passes the binary digits of F as argument to order_of_P\n",
    "            elif T[0]==T[1]:           #Type II representations  \n",
    "                return class_size_k(T[0])**2\n",
    "            else:                      #Type I representations   \n",
    "                return 2*class_size_k(T[0])*class_size_k(T[1])\n",
    "    x=1\n",
    "    for y in F:\n",
    "        x=x*class_size_k(y)\n",
    "    return x"
   ]
  },
  {
   "cell_type": "markdown",
   "metadata": {
    "collapsed": false
   },
   "source": [
    "#### Example:"
   ]
  },
  {
   "cell_type": "code",
   "execution_count": 15,
   "metadata": {
    "collapsed": false
   },
   "outputs": [
    {
     "name": "stdout",
     "output_type": "stream",
     "text": [
      "order_of_P( 7 ): 16\n",
      "order_of_P( [2, 1, 0] ): 16\n",
      "[[[[[]]]], [[[]]], [[]]] of size 2\n",
      "[[[[[]]]], [[[]], [[]]], [[]]] of size 2\n",
      "[[[[[]]], [[[]]]], [[[]]], [[]]] of size 1\n",
      "[[[[[]]], [[[]]]], [[[]], [[]]], [[]]] of size 1\n",
      "[[[[[]], [[]]]], [[[]]], [[]]] of size 2\n",
      "[[[[[]], [[]]]], [[[]], [[]]], [[]]] of size 2\n",
      "[[[[[]], [[]]], [[[]], [[]]]], [[[]]], [[]]] of size 1\n",
      "[[[[[]], [[]]], [[[]], [[]]]], [[[]], [[]]], [[]]] of size 1\n",
      "[[[[[]]], [[[]], [[]]]], [[[]]], [[]]] of size 2\n",
      "[[[[[]]], [[[]], [[]]]], [[[]], [[]]], [[]]] of size 2\n",
      "Order of n: 16\n",
      "Sum of class sizes: 16\n"
     ]
    }
   ],
   "source": [
    "n=7\n",
    "print \"order_of_P(\",n,\"):\",order_of_P(n)\n",
    "print \"order_of_P(\",gen_bin_exp(n),\"):\",order_of_P(L=gen_bin_exp(n))\n",
    "sum1=0\n",
    "for x in gen_forest(n):\n",
    "    print x, \"of size\", class_size(x)\n",
    "    sum1+=class_size(x)\n",
    "print \"Order of n:\", order_of_P(n)\n",
    "print \"Sum of class sizes:\", sum1"
   ]
  },
  {
   "cell_type": "markdown",
   "metadata": {
    "collapsed": false
   },
   "source": [
    "The example shows the two ways of using the function- giving either the integer $n$ as input or its binary digits. The next few lines output the sizes of all classes of $P_n$ for a specified value of $n$. Finally the order of $n$ is compared to the sum of sizes of classes, with equality of these two serving as a check of correctness."
   ]
  },
  {
   "cell_type": "markdown",
   "metadata": {
    "collapsed": false
   },
   "source": [
    "## 4. Character value computations\n",
    "We implement these functions to provide a recursive method of finding character values. Given forests representing a representation and a conjugacy class, the following function defines the character value of the representation at the conjugacy class."
   ]
  },
  {
   "cell_type": "code",
   "execution_count": 16,
   "metadata": {
    "collapsed": false
   },
   "outputs": [
   ],
   "source": [
    "def charval(for_1,for_2):\n",
    "    \"\"\"\n",
    "    Returns the character value of the irreducible representation expressed as a forest on a conjugacy class also expressed as a forest.\n",
    "    \n",
    "    Keyword arguments:\n",
    "    for_1- forest denoting representation of P_n\n",
    "    for_2- forest denoting conjugacy class of P_n\n",
    "    \n",
    "    \"\"\"  \n",
    "    def charval_2k(irrep, conj_class):\n",
    "        if irrep==[[]]:      #if trivial representation\n",
    "            return 1\n",
    "        if len(irrep)==1 or irrep[0]==irrep[1]: #Type II or Type III representations\n",
    "            if len(conj_class)==1:   #Type III conjugacy classes\n",
    "                return ((-1)**len(irrep))*charval_2k(irrep[0],conj_class[0])\n",
    "            else:\n",
    "                return charval_2k(irrep[0],conj_class[0])*charval_2k(irrep[0],conj_class[1])\n",
    "        else:                       #Type I representations\n",
    "            if len(conj_class)==1:  #Type III conjugacy classes\n",
    "                return 0\n",
    "            else:\n",
    "                return charval_2k(irrep[0],conj_class[0])*charval_2k(irrep[1],conj_class[1])+charval_2k(irrep[0],conj_class[1])*charval_2k(irrep[1],conj_class[0])\n",
    "    #Type I and Type II conjugacy classes        \n",
    "    \n",
    "    \n",
    "    if size_of_forest(for_1)== size_of_forest(for_2):  #if representation and conjugacy class are for the same P_n\n",
    "        x=1\n",
    "        for i,s in enumerate(for_1):\n",
    "            x=x*charval_2k(s,for_2[i]) #the character values of the forest is the product of the character values of the trees\n",
    "        return x\n",
    "    else:\n",
    "        return 0\n",
    "    \n",
    "    \n"
   ]
  },
  {
   "cell_type": "markdown",
   "metadata": {
    "collapsed": false
   },
   "source": [
    "#### Example:"
   ]
  },
  {
   "cell_type": "code",
   "execution_count": 17,
   "metadata": {
    "collapsed": false
   },
   "outputs": [
    {
     "name": "stdout",
     "output_type": "stream",
     "text": [
      "[1, 1, -1, 1, -1]\n",
      "[-1, 1, 1, 1, -1]\n",
      "[-1, 1, -1, 1, 1]\n",
      "[1, 1, 1, 1, 1]\n",
      "[0, -2, 0, 2, 0]\n"
     ]
    }
   ],
   "source": [
    "n=4\n",
    "for x in gen_forest(n): #for ever representation of P_n\n",
    "    print [charval(x,y) for y in gen_forest(n)]      #the row of character values for each representation on all classes"
   ]
  },
  {
   "cell_type": "markdown",
   "metadata": {
    "collapsed": false
   },
   "source": [
    "The example shows the calculation of the character table of $P_n$."
   ]
  },
  {
   "cell_type": "markdown",
   "metadata": {
    "collapsed": false
   },
   "source": [
    "### 4.1 The inner product of characters\n",
    "Finally, a function for the inner product of characters of $H_k$. We use this to verify that the characters defined by our procedure are all independent(in fact orthonormal)."
   ]
  },
  {
   "cell_type": "code",
   "execution_count": 18,
   "metadata": {
    "collapsed": false
   },
   "outputs": [
   ],
   "source": [
    "def inner_prod(rep1, rep2):\n",
    "    \"\"\"\n",
    "    Given two (irreducible) characters, calculates its usual inner product.\n",
    "    \n",
    "    Keyword arguments:\n",
    "    rep1- First representation as a forest\n",
    "    rep2- Second representation as a forest\n",
    "    \"\"\"\n",
    "    if size_of_forest(rep1)!=size_of_forest(rep2):\n",
    "        return -1          #fail value if both representations are not for the same P_n\n",
    "    k= sum([2**x for x in size_of_forest(rep1)])  #value of n\n",
    "    oP= order_of_P(k)                       #Cardinality of P_n\n",
    "    return sum([charval(rep1, conj_class)*charval(rep2, conj_class)*class_size(conj_class) for conj_class in gen_forest(k)])/oP #usual inner product formula for real valued characters"
   ]
  },
  {
   "cell_type": "markdown",
   "metadata": {
    "collapsed": false
   },
   "source": [
    "#### Example:"
   ]
  },
  {
   "cell_type": "code",
   "execution_count": 20,
   "metadata": {
    "collapsed": false
   },
   "outputs": [
    {
     "name": "stdout",
     "output_type": "stream",
     "text": [
      "<X;X>\n",
      "< [[[[[]]]], [[[]]], [[]]] ; [[[[[]]]], [[[]]], [[]]] >= 1\n",
      "< [[[[[]]]], [[[]], [[]]], [[]]] ; [[[[[]]]], [[[]], [[]]], [[]]] >= 1\n",
      "< [[[[[]]], [[[]]]], [[[]]], [[]]] ; [[[[[]]], [[[]]]], [[[]]], [[]]] >= 1\n",
      "< [[[[[]]], [[[]]]], [[[]], [[]]], [[]]] ; [[[[[]]], [[[]]]], [[[]], [[]]], [[]]] >= 1\n",
      "< [[[[[]], [[]]]], [[[]]], [[]]] ; [[[[[]], [[]]]], [[[]]], [[]]] >= 1\n",
      "< [[[[[]], [[]]]], [[[]], [[]]], [[]]] ; [[[[[]], [[]]]], [[[]], [[]]], [[]]] >= 1\n",
      "< [[[[[]], [[]]], [[[]], [[]]]], [[[]]], [[]]] ; [[[[[]], [[]]], [[[]], [[]]]], [[[]]], [[]]] >= 1\n",
      "< [[[[[]], [[]]], [[[]], [[]]]], [[[]], [[]]], [[]]] ; [[[[[]], [[]]], [[[]], [[]]]], [[[]], [[]]], [[]]] >= 1\n",
      "< [[[[[]]], [[[]], [[]]]], [[[]]], [[]]] ; [[[[[]]], [[[]], [[]]]], [[[]]], [[]]] >= 1\n",
      "< [[[[[]]], [[[]], [[]]]], [[[]], [[]]], [[]]] ; [[[[[]]], [[[]], [[]]]], [[[]], [[]]], [[]]] >= 1\n",
      "<X;Y>\n",
      "< [[[[[]]]], [[[]]], [[]]] [[[[[]]]], [[[]], [[]]], [[]]] >= 0\n",
      "< [[[[[]]]], [[[]]], [[]]] [[[[[]]], [[[]]]], [[[]]], [[]]] >= 0\n",
      "< [[[[[]]]], [[[]]], [[]]] [[[[[]]], [[[]]]], [[[]], [[]]], [[]]] >= 0\n",
      "< [[[[[]]]], [[[]]], [[]]] [[[[[]], [[]]]], [[[]]], [[]]] >= 0\n",
      "< [[[[[]]]], [[[]]], [[]]] [[[[[]], [[]]]], [[[]], [[]]], [[]]] >= 0\n",
      "< [[[[[]]]], [[[]]], [[]]] [[[[[]], [[]]], [[[]], [[]]]], [[[]]], [[]]] >= 0\n",
      "< [[[[[]]]], [[[]]], [[]]] [[[[[]], [[]]], [[[]], [[]]]], [[[]], [[]]], [[]]] >= 0\n",
      "< [[[[[]]]], [[[]]], [[]]] [[[[[]]], [[[]], [[]]]], [[[]]], [[]]] >= 0\n",
      "< [[[[[]]]], [[[]]], [[]]] [[[[[]]], [[[]], [[]]]], [[[]], [[]]], [[]]] >= 0\n",
      "< [[[[[]]]], [[[]], [[]]], [[]]] [[[[[]]], [[[]]]], [[[]]], [[]]] >= 0\n",
      "< [[[[[]]]], [[[]], [[]]], [[]]] [[[[[]]], [[[]]]], [[[]], [[]]], [[]]] >= 0\n",
      "< [[[[[]]]], [[[]], [[]]], [[]]] [[[[[]], [[]]]], [[[]]], [[]]] >= 0\n",
      "< [[[[[]]]], [[[]], [[]]], [[]]] [[[[[]], [[]]]], [[[]], [[]]], [[]]] >= 0\n",
      "< [[[[[]]]], [[[]], [[]]], [[]]] [[[[[]], [[]]], [[[]], [[]]]], [[[]]], [[]]] >= 0\n",
      "< [[[[[]]]], [[[]], [[]]], [[]]] [[[[[]], [[]]], [[[]], [[]]]], [[[]], [[]]], [[]]] >= 0\n",
      "< [[[[[]]]], [[[]], [[]]], [[]]] [[[[[]]], [[[]], [[]]]], [[[]]], [[]]] >= 0\n",
      "< [[[[[]]]], [[[]], [[]]], [[]]] [[[[[]]], [[[]], [[]]]], [[[]], [[]]], [[]]] >= 0\n",
      "< [[[[[]]], [[[]]]], [[[]]], [[]]] [[[[[]]], [[[]]]], [[[]], [[]]], [[]]] >= 0\n",
      "< [[[[[]]], [[[]]]], [[[]]], [[]]] [[[[[]], [[]]]], [[[]]], [[]]] >= 0\n",
      "< [[[[[]]], [[[]]]], [[[]]], [[]]] [[[[[]], [[]]]], [[[]], [[]]], [[]]] >= 0\n",
      "< [[[[[]]], [[[]]]], [[[]]], [[]]] [[[[[]], [[]]], [[[]], [[]]]], [[[]]], [[]]] >= 0\n",
      "< [[[[[]]], [[[]]]], [[[]]], [[]]] [[[[[]], [[]]], [[[]], [[]]]], [[[]], [[]]], [[]]] >= 0\n",
      "< [[[[[]]], [[[]]]], [[[]]], [[]]] [[[[[]]], [[[]], [[]]]], [[[]]], [[]]] >= 0\n",
      "< [[[[[]]], [[[]]]], [[[]]], [[]]] [[[[[]]], [[[]], [[]]]], [[[]], [[]]], [[]]] >= 0\n",
      "< [[[[[]]], [[[]]]], [[[]], [[]]], [[]]] [[[[[]], [[]]]], [[[]]], [[]]] >= 0\n",
      "< [[[[[]]], [[[]]]], [[[]], [[]]], [[]]] [[[[[]], [[]]]], [[[]], [[]]], [[]]] >= 0\n",
      "< [[[[[]]], [[[]]]], [[[]], [[]]], [[]]] [[[[[]], [[]]], [[[]], [[]]]], [[[]]], [[]]] >= 0\n",
      "< [[[[[]]], [[[]]]], [[[]], [[]]], [[]]] [[[[[]], [[]]], [[[]], [[]]]], [[[]], [[]]], [[]]] >= 0\n",
      "< [[[[[]]], [[[]]]], [[[]], [[]]], [[]]] [[[[[]]], [[[]], [[]]]], [[[]]], [[]]] >= 0\n",
      "< [[[[[]]], [[[]]]], [[[]], [[]]], [[]]] [[[[[]]], [[[]], [[]]]], [[[]], [[]]], [[]]] >= 0\n",
      "< [[[[[]], [[]]]], [[[]]], [[]]] [[[[[]], [[]]]], [[[]], [[]]], [[]]] >= 0\n",
      "< [[[[[]], [[]]]], [[[]]], [[]]] [[[[[]], [[]]], [[[]], [[]]]], [[[]]], [[]]] >= 0\n",
      "< [[[[[]], [[]]]], [[[]]], [[]]] [[[[[]], [[]]], [[[]], [[]]]], [[[]], [[]]], [[]]] >= 0\n",
      "< [[[[[]], [[]]]], [[[]]], [[]]] [[[[[]]], [[[]], [[]]]], [[[]]], [[]]] >= 0\n",
      "< [[[[[]], [[]]]], [[[]]], [[]]] [[[[[]]], [[[]], [[]]]], [[[]], [[]]], [[]]] >= 0\n",
      "< [[[[[]], [[]]]], [[[]], [[]]], [[]]] [[[[[]], [[]]], [[[]], [[]]]], [[[]]], [[]]] >= 0\n",
      "< [[[[[]], [[]]]], [[[]], [[]]], [[]]] [[[[[]], [[]]], [[[]], [[]]]], [[[]], [[]]], [[]]] >= 0\n",
      "< [[[[[]], [[]]]], [[[]], [[]]], [[]]] [[[[[]]], [[[]], [[]]]], [[[]]], [[]]] >= 0\n",
      "< [[[[[]], [[]]]], [[[]], [[]]], [[]]] [[[[[]]], [[[]], [[]]]], [[[]], [[]]], [[]]] >= 0\n",
      "< [[[[[]], [[]]], [[[]], [[]]]], [[[]]], [[]]] [[[[[]], [[]]], [[[]], [[]]]], [[[]], [[]]], [[]]] >= 0\n",
      "< [[[[[]], [[]]], [[[]], [[]]]], [[[]]], [[]]] [[[[[]]], [[[]], [[]]]], [[[]]], [[]]] >= 0\n",
      "< [[[[[]], [[]]], [[[]], [[]]]], [[[]]], [[]]] [[[[[]]], [[[]], [[]]]], [[[]], [[]]], [[]]] >= 0\n",
      "< [[[[[]], [[]]], [[[]], [[]]]], [[[]], [[]]], [[]]] [[[[[]]], [[[]], [[]]]], [[[]]], [[]]] >= 0\n",
      "< [[[[[]], [[]]], [[[]], [[]]]], [[[]], [[]]], [[]]] [[[[[]]], [[[]], [[]]]], [[[]], [[]]], [[]]] >= 0\n",
      "< [[[[[]]], [[[]], [[]]]], [[[]]], [[]]] [[[[[]]], [[[]], [[]]]], [[[]], [[]]], [[]]] >= 0\n"
     ]
    }
   ],
   "source": [
    "n=7\n",
    "print \"<X;X>\"\n",
    "for x in gen_forest(n):\n",
    "    print \"<\",x,\";\",x,\">=\",inner_prod(x,x)\n",
    "\n",
    "print \"<X;Y>\"\n",
    "for (x,y) in itertools.combinations(gen_forest(n),2):\n",
    "    print \"<\",x,y,\">=\",inner_prod(x,y)\n"
   ]
  },
  {
   "cell_type": "markdown",
   "metadata": {
    "collapsed": false
   },
   "source": [
    "The first few inner products are of the type $\\langle \\chi; \\chi \\rangle$ should all be 1. The remaining, of type $\\langle \\chi_1; \\chi_2 \\rangle$ need to be $0$ to verify that we have obtained a (complete) list of mutually nonisomorphic irreducible representations of $P_n$."
   ]
  },
  {
   "cell_type": "code",
   "execution_count": 0,
   "metadata": {
    "collapsed": false
   },
   "outputs": [
   ],
   "source": [
   ]
  }
 ],
 "metadata": {
  "kernelspec": {
   "display_name": "Python 2 (Ubuntu Linux)",
   "language": "python",
   "name": "python2-ubuntu"
  },
  "language_info": {
   "codemirror_mode": {
    "name": "ipython",
    "version": 2
   },
   "file_extension": ".py",
   "mimetype": "text/x-python",
   "name": "python",
   "nbconvert_exporter": "python",
   "pygments_lexer": "ipython2",
   "version": "2.7.12"
  }
 },
 "nbformat": 4,
 "nbformat_minor": 0
}